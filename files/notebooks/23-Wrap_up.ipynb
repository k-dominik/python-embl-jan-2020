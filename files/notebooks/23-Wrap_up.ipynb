{
 "cells": [
  {
   "cell_type": "markdown",
   "metadata": {},
   "source": [
    "### Wrap-up\n",
    "\n",
    "Leslie Lamport (creater of LaTeX, among other things) once said, “Writing is nature’s way of showing you how sloppy your thinking is.” The same is true of programming: many things that seem obvious when we’re thinking about them turn out to be anything but when we have to explain them precisely."
   ]
  },
  {
   "cell_type": "markdown",
   "metadata": {},
   "source": [
    "### Python supports a large and diverse community across academia and industry.\n",
    "\n",
    "* The Python 3 documentation covers the core language and the standard library.\n",
    "* PyCon is the largest annual conference for the Python community.\n",
    "* SciPy is a rich collection of scientific utilities. It is also the name of a series of annual conferences.\n",
    "* Jupyter is the home of Project Jupyter.\n",
    "* Pandas is the home of the Pandas data library.\n",
    "* Stack Overflow’s general Python section can be helpful, as well as the sections on NumPy, SciPy, and Pandas."
   ]
  }
 ],
 "metadata": {
  "kernelspec": {
   "display_name": "Python 3",
   "language": "python",
   "name": "python3"
  },
  "language_info": {
   "codemirror_mode": {
    "name": "ipython",
    "version": 3
   },
   "file_extension": ".py",
   "mimetype": "text/x-python",
   "name": "python",
   "nbconvert_exporter": "python",
   "pygments_lexer": "ipython3",
   "version": "3.7.3"
  }
 },
 "nbformat": 4,
 "nbformat_minor": 2
}
