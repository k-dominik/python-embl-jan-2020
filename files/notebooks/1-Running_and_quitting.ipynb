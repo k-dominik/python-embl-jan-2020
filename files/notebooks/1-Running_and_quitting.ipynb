{
 "cells": [
  {
   "cell_type": "markdown",
   "metadata": {},
   "source": [
    "# Running and quitting Jupyter notebook"
   ]
  },
  {
   "cell_type": "markdown",
   "metadata": {},
   "source": [
    "## Starting Jupyter Lab"
   ]
  },
  {
   "cell_type": "markdown",
   "metadata": {},
   "source": [
    "## Open the JupyterLab server\n",
    "\n",
    "\n",
    "#### Mac OS and Linux\n",
    "\n",
    "- Open the Terminal app from the Applications folder\n",
    "- After you have launched the terminal type: \"jupyter lab\" and press Enter\n",
    "\n",
    "#### Windows\n",
    "\n",
    "- Press the Windows Logo Key and open the Anaconda Prompt\n",
    "- After you have launched the Anaconda Prompt type the command: \"jupyter lab\" and press Enter"
   ]
  },
  {
   "cell_type": "markdown",
   "metadata": {},
   "source": [
    "After opening the JupyterLab server you will land on a page that looks like this:\n",
    "\n",
    "![JupyterLab landing page](https://swcarpentry.github.io/python-novice-gapminder/fig/0_jupyterlab_landing_page.png)"
   ]
  },
  {
   "cell_type": "markdown",
   "metadata": {},
   "source": [
    "## The Jupyter Lab interface\n",
    "\n",
    "### Menu bar\n",
    "\n",
    "The Menu Bar at the top of JupyterLab has the top-level menus that expose various actions available in JupyterLab along with their keyboard shortcuts (where applicable). The following menus are included by default.\n",
    "\n",
    "- File: Actions related to files and directories such as New, Open, Close, Save, etc. The File menu also includes the Quit action used to shutdown the JupyterLab server.\n",
    "- Edit: Actions related to editing documents and other activities such as Undo, Cut, Copy, Paste, etc.\n",
    "- View: Actions that alter the appearance of JupyterLab.\n",
    "- Run: Actions for running code in different activities such as notebooks and code consoles (discussed below).\n",
    "- Kernel: Actions for managing kernels which, as mentioned above, are separate processes for running code.\n",
    "- Tabs: A list of the open documents and activities in the dock panel.\n",
    "- Settings: Common JupyterLab settings can be configured using this menu. There is also an Advanced Settings Editor option in the dropdown menu that provides more fine-grained control of JupyterLab settings and configuration options.\n",
    "- Help: A list of JupyterLab and kernel help links.\n",
    "\n",
    "A screenshot of the default Menu Bar is provided below:\n",
    "\n",
    "![JupyterLab menu bar](https://swcarpentry.github.io/python-novice-gapminder/fig/0_jupyterlab_menu_bar.png)\n",
    "\n",
    "### Left Sidebar"
   ]
  },
  {
   "cell_type": "markdown",
   "metadata": {},
   "source": [
    "The left sidebar contains a number of commonly-used tabs, such as a file browser (showing the contents of the directory in which the JupyterLab server was launched!), a list of running kernels and terminals, the command palette, and a list of open tabs in the main work area. A screenshot of the default Left Side Bar is provided below.\n",
    "\n",
    "![Left Sidebar](https://swcarpentry.github.io/python-novice-gapminder/fig/0_jupyterlab_left_side_bar.png)"
   ]
  },
  {
   "cell_type": "markdown",
   "metadata": {},
   "source": [
    "### Main work area"
   ]
  },
  {
   "cell_type": "markdown",
   "metadata": {},
   "source": [
    "The main work area in JupyterLab enables you to arrange documents (notebooks, text files, etc.) and other activities (terminals, code consoles, etc.) into panels of tabs that can be resized or subdivided. A screenshot of the default Menu Bar is provided below.\n",
    "\n",
    "![Menu Bar](https://swcarpentry.github.io/python-novice-gapminder/fig/0_jupyterlab_main_work_area.png)"
   ]
  },
  {
   "cell_type": "markdown",
   "metadata": {},
   "source": [
    "## Creating a Python script"
   ]
  },
  {
   "cell_type": "markdown",
   "metadata": {},
   "source": [
    "To start writing a new Python program click the Text File icon under the Other header in the Launcher tab of the Main Work Area.\n",
    "\n",
    "You can also create a new plain text file by selecting the New -> Text File from the File menu in the Menu Bar.\n",
    "\n",
    "To convert this plain text file to a Python program, select the Save File As action from the File menu in the Menu Bar and give your new text file a name that ends with the .py extension.\n",
    "\n",
    "The .py extension lets everyone (including the operating system) know that this text file is a Python program.\n",
    "This is convention, not a requirement."
   ]
  },
  {
   "cell_type": "markdown",
   "metadata": {},
   "source": [
    "## Creating a Jupyter Notebook"
   ]
  },
  {
   "cell_type": "markdown",
   "metadata": {},
   "source": [
    "To open a new notebook click the Python 3 icon under the Notebook header in the Launcher tab in the main work area. You can also create a new notebook by selecting New -> Notebook from the File menu in the Menu Bar.\n",
    "\n",
    "Notebook files have the extension .ipynb to distinguish them from plain-text Python programs.\n",
    "Notebooks can be exported as Python scripts that can be run from the command line.\n",
    "Below is a screenshot of a Jupyter notebook running inside JupyterLab. If you are interested in more details, then see the [official notebook documentation](https://jupyterlab.readthedocs.io/en/stable/user/notebook.html).\n",
    "\n",
    "![Notebook](https://swcarpentry.github.io/python-novice-gapminder/fig/0_jupyterlab_notebook_screenshot.png)\n"
   ]
  },
  {
   "cell_type": "markdown",
   "metadata": {},
   "source": [
    "## Use the Jupyter Notebook for editing and running Python"
   ]
  },
  {
   "cell_type": "markdown",
   "metadata": {},
   "source": [
    "While it’s common to write Python scripts using a text editor, we are going to use the Jupyter Notebook for the remainder of this workshop.\n",
    "\n",
    "This has several advantages:\n",
    "- You can easily type, edit, and copy and paste blocks of code.\n",
    "- Tab complete allows you to easily access the names of things you are using and learn more about them.\n",
    "- It allows you to annotate your code with links, different sized text, bullets, etc. to make it more accessible to you and your collaborators.\n",
    "- It allows you to display figures next to the code that produces them to tell a complete story of the analysis.\n",
    "\n",
    "Each notebook contains one or more cells that contain code, text, or images."
   ]
  },
  {
   "cell_type": "markdown",
   "metadata": {},
   "source": [
    "## Markdown does most of what HTML does"
   ]
  },
  {
   "cell_type": "markdown",
   "metadata": {},
   "source": [
    "The following bolck showcases most of the basic Markdown features.\n",
    "\n",
    "Try executing it.\n",
    "\n",
    "To return to type mode and modify the cell, double click on it."
   ]
  },
  {
   "cell_type": "markdown",
   "metadata": {},
   "source": [
    "# Level-1 Heading\n",
    "\n",
    "## Level-2 Heading\n",
    "\n",
    "##### Level-5 Heading\n",
    "\n",
    "\n",
    "Bullet points:\n",
    "- 1st point\n",
    "- 2nd point\n",
    "- 3rd point\n",
    "    - sublist 1\n",
    "    - sublist 2\n",
    "        - sub-sublist 1\n",
    "        \n",
    "        \n",
    "This is the sintax to include (cats) web pictures:\n",
    "\n",
    "![Link to cat picture](http://www.petsworld.in/blog/wp-content/uploads/2014/09/cute-kittens.jpg)"
   ]
  }
 ],
 "metadata": {
  "kernelspec": {
   "display_name": "Python 3",
   "language": "python",
   "name": "python3"
  },
  "language_info": {
   "codemirror_mode": {
    "name": "ipython",
    "version": 3
   },
   "file_extension": ".py",
   "mimetype": "text/x-python",
   "name": "python",
   "nbconvert_exporter": "python",
   "pygments_lexer": "ipython3",
   "version": "3.7.1"
  }
 },
 "nbformat": 4,
 "nbformat_minor": 2
}
